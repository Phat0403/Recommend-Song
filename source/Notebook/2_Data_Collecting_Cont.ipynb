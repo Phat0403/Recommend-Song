{
 "cells": [
  {
   "cell_type": "markdown",
   "metadata": {},
   "source": [
    "# Import"
   ]
  },
  {
   "cell_type": "code",
   "execution_count": 1,
   "metadata": {
    "execution": {
     "iopub.execute_input": "2024-12-13T10:00:01.848287Z",
     "iopub.status.busy": "2024-12-13T10:00:01.847628Z",
     "iopub.status.idle": "2024-12-13T10:00:03.359048Z",
     "shell.execute_reply": "2024-12-13T10:00:03.357734Z",
     "shell.execute_reply.started": "2024-12-13T10:00:01.848214Z"
    },
    "trusted": true
   },
   "outputs": [],
   "source": [
    "import pandas as pd\n",
    "import requests\n",
    "import json\n",
    "import os\n",
    "import sys\n",
    "import time \n",
    "import datetime\n",
    "import numpy as np\n",
    "import matplotlib.pyplot as plt\n",
    "import matplotlib.dates as mdates\n",
    "import base64"
   ]
  },
  {
   "cell_type": "markdown",
   "metadata": {},
   "source": [
    "# Lấy token"
   ]
  },
  {
   "cell_type": "code",
   "execution_count": 2,
   "metadata": {
    "execution": {
     "iopub.execute_input": "2024-12-13T10:00:03.361716Z",
     "iopub.status.busy": "2024-12-13T10:00:03.361152Z",
     "iopub.status.idle": "2024-12-13T10:00:03.370478Z",
     "shell.execute_reply": "2024-12-13T10:00:03.368545Z",
     "shell.execute_reply.started": "2024-12-13T10:00:03.361676Z"
    },
    "trusted": true
   },
   "outputs": [],
   "source": [
    "# Dictionary to store multiple client credentials\n",
    "CURRENT_CLIENT_ID = 1\n",
    "CLIENT_CREDENTIALS = {\n",
    "    1 : {\n",
    "        'client_id': '489161f1d161402ca00a10e470b9b808',\n",
    "        'client_secret': '6041044fc5dc498480994298ed0163c8'\n",
    "    },\n",
    "    2: {\n",
    "        'client_id': 'dc4c9136605a478e9c836c59691cd474', \n",
    "        'client_secret': '7dca333866ab4a05be49bd4078d98744'\n",
    "    },\n",
    "    3: {\n",
    "        'client_id': 'b6b19e48101040f5943ce1050a04b153', \n",
    "        'client_secret': '9182c41a5f4746d980130a3270823557'\n",
    "    },\n",
    "    4: {\n",
    "        'client_id': 'cf1516d021e2489daf208a4f973544d2', \n",
    "        'client_secret': 'ebfc8b2428b94aa8977b0b34ad9a518f'\n",
    "    },\n",
    "    5: {\n",
    "        'client_id': '106f35d5e02347749a5d11967e00a5f2', \n",
    "        'client_secret': 'fc971fb3df9b4710b4b73cffb4172a85'\n",
    "    },\n",
    "    6: {\n",
    "        'client_id': 'eeda886daea447de937b498eeab2ca24', \n",
    "        'client_secret': '2f62c397322d4dcc8efdf53a2e0db85c'\n",
    "    },\n",
    "    7: {\n",
    "        'client_id': '464d8814654d437683582a5c189a6e82', \n",
    "        'client_secret': 'aed59a52534a404597f37d735acbecfb'\n",
    "    },\n",
    "    8: {\n",
    "        'client_id': '9f89459be490410a89ea56ee73caa09d', \n",
    "        'client_secret': 'a96d44704bcc4f879c446125b0963395'\n",
    "    },\n",
    "    9: {\n",
    "        'client_id': 'f456115fa6df45a3bc04469a5a4d4384', \n",
    "        'client_secret': 'caec468cc4ca40bcbf6012c2ba4afea4'\n",
    "    },\n",
    "    10: {\n",
    "        'client_id': '97961af1175d4bc28ba5f9d1aae89598', \n",
    "        'client_secret': 'a045e19fe1d24e549a7fdc9344f37ffe'\n",
    "    }\n",
    "}"
   ]
  },
  {
   "cell_type": "code",
   "execution_count": 3,
   "metadata": {
    "execution": {
     "iopub.execute_input": "2024-12-13T10:00:03.373013Z",
     "iopub.status.busy": "2024-12-13T10:00:03.372508Z",
     "iopub.status.idle": "2024-12-13T10:00:03.391115Z",
     "shell.execute_reply": "2024-12-13T10:00:03.389442Z",
     "shell.execute_reply.started": "2024-12-13T10:00:03.372964Z"
    },
    "trusted": true
   },
   "outputs": [],
   "source": [
    "def get_token(client_id, client_secret):\n",
    "    # Mã hóa client_id và client_secret thành base64\n",
    "    auth_string = f\"{client_id}:{client_secret}\"\n",
    "    auth_bytes = auth_string.encode('utf-8')\n",
    "    auth_base64 = base64.b64encode(auth_bytes).decode('utf-8')\n",
    "\n",
    "    # Thiết lập thông tin yêu cầu\n",
    "    auth_url = 'https://accounts.spotify.com/api/token'\n",
    "    headers = {\n",
    "        'Authorization': f'Basic {auth_base64}'\n",
    "    }\n",
    "    data = {\n",
    "        'grant_type': 'client_credentials'\n",
    "    }\n",
    "\n",
    "    # Gửi yêu cầu POST để lấy token\n",
    "    response = requests.post(auth_url, headers=headers, data=data)\n",
    "\n",
    "    # Kiểm tra phản hồi và trả về token nếu thành công\n",
    "    if response.status_code == 200:\n",
    "        token = response.json().get('access_token')\n",
    "        return token\n",
    "    else:\n",
    "        print(f\"Error: {response.status_code} - {response.text}\")\n",
    "        return None\n",
    "\n",
    "def get_valid_token(client_id, client_secret):\n",
    "    token = None\n",
    "    while token is None:\n",
    "        token = get_token(client_id, client_secret)\n",
    "        if token is None:\n",
    "            print(\"Token expired or error. Retrying in 1 minute...\")\n",
    "            time.sleep(60)  # Nếu token không hợp lệ, chờ 1 phút và thử lại\n",
    "    return token\n"
   ]
  },
  {
   "cell_type": "code",
   "execution_count": 4,
   "metadata": {
    "execution": {
     "iopub.execute_input": "2024-12-13T10:00:03.395247Z",
     "iopub.status.busy": "2024-12-13T10:00:03.394728Z",
     "iopub.status.idle": "2024-12-13T10:00:03.414070Z",
     "shell.execute_reply": "2024-12-13T10:00:03.412619Z",
     "shell.execute_reply.started": "2024-12-13T10:00:03.395195Z"
    },
    "trusted": true
   },
   "outputs": [],
   "source": [
    "def new_token(id):\n",
    "    try:\n",
    "        credentials = CLIENT_CREDENTIALS[id]\n",
    "        client_id = credentials['client_id']\n",
    "        client_secret = credentials['client_secret']\n",
    "        \n",
    "        return get_valid_token(client_id, client_secret)\n",
    "        \n",
    "    except KeyError:\n",
    "        print(f\"Error id: {id}\")\n",
    "        raise KeyError(f\"No credentials found for app: {id}\")\n",
    "    except requests.exceptions.RequestException as e:\n",
    "        raise Exception(f\"Failed to get token: {str(e)}\")"
   ]
  },
  {
   "cell_type": "code",
   "execution_count": 5,
   "metadata": {
    "execution": {
     "iopub.execute_input": "2024-12-13T10:00:03.416402Z",
     "iopub.status.busy": "2024-12-13T10:00:03.415842Z",
     "iopub.status.idle": "2024-12-13T10:00:03.515095Z",
     "shell.execute_reply": "2024-12-13T10:00:03.513124Z",
     "shell.execute_reply.started": "2024-12-13T10:00:03.416339Z"
    },
    "trusted": true
   },
   "outputs": [
    {
     "name": "stdout",
     "output_type": "stream",
     "text": [
      "BQDbXaqSFQ292Oj0ZXJLG5u8M8lU6OMpaZHUWHeWCNqLiumSpg6H0qrIcXF0zDX10L_l-j9pu_khXU1LTgJoInb5WjH6wpm83FbzUHaihL6kRGn-GXg\n"
     ]
    }
   ],
   "source": [
    "token = new_token(CURRENT_CLIENT_ID)\n",
    "print(token)"
   ]
  },
  {
   "cell_type": "markdown",
   "metadata": {},
   "source": [
    "# Lấy popularity\n",
    "Từ file `Old_Data_Colecting`, ta đã thu thập được một số thông tin cho các bài hát.\n",
    "Vì [endpoint](https://developer.spotify.com/documentation/web-api/reference/get-audio-features) của spotify hiện không hoạt động. Ta đành dùng dữ liệu cũ đã thu thập được và tiến hành thêm một số thuộc tính.\n",
    "- popularity\n",
    "- release day"
   ]
  },
  {
   "cell_type": "code",
   "execution_count": 6,
   "metadata": {
    "execution": {
     "iopub.execute_input": "2024-12-13T10:00:03.518131Z",
     "iopub.status.busy": "2024-12-13T10:00:03.517553Z",
     "iopub.status.idle": "2024-12-13T10:00:03.535086Z",
     "shell.execute_reply": "2024-12-13T10:00:03.533567Z",
     "shell.execute_reply.started": "2024-12-13T10:00:03.518067Z"
    },
    "trusted": true
   },
   "outputs": [],
   "source": [
    "class RateLimitExceededException(Exception):\n",
    "    \"\"\"Exception raised when Spotify API returns a 429 status code.\"\"\"\n",
    "    pass\n",
    "\n",
    "# Hàm fetch_data\n",
    "def fetch_data(id_chunk, token):\n",
    "    global CURRENT_CLIENT_ID\n",
    "    url = f\"https://api.spotify.com/v1/tracks?ids={id_chunk}\"\n",
    "    headers = {\n",
    "        \"Authorization\": f\"Bearer {token}\"\n",
    "    }\n",
    "    response = requests.get(url, headers=headers)\n",
    "\n",
    "    if response.status_code == 200:\n",
    "        data = response.json()\n",
    "        # Lấy cả popularity và release_date\n",
    "        return {\n",
    "            track['id']: {\n",
    "                'popularity': track['popularity'],\n",
    "                'release_date': track['album']['release_date']\n",
    "            }\n",
    "            for track in data['tracks'] if 'popularity' in track and 'album' in track\n",
    "        }\n",
    "\n",
    "    elif response.status_code == 429:\n",
    "        # Throw custom exception\n",
    "        raise RateLimitExceededException(\"Rate limit exceeded. Please try again later.\")\n",
    "    \n",
    "    else:\n",
    "        raise Exception(f\"Error fetching data from Spotify API: {response.text}\")\n",
    "\n",
    "# Hàm xử lý chunk và thêm popularity + release_date\n",
    "def process_chunk(chunk, token):\n",
    "    ids = chunk['Track ID'].tolist()\n",
    "    id_chunks = [\",\".join(ids[i:i+50]) for i in range(0, len(ids), 50)]\n",
    "    data = {}\n",
    "    for id_chunk in id_chunks:\n",
    "        data.update(fetch_data(id_chunk, token))\n",
    "    \n",
    "    # Thêm cột popularity và release_date vào chunk\n",
    "    chunk['popularity'] = chunk['Track ID'].map(lambda x: data.get(x, {}).get('popularity', None))\n",
    "    chunk['release_date'] = chunk['Track ID'].map(lambda x: data.get(x, {}).get('release_date', None))\n",
    "    return chunk"
   ]
  },
  {
   "cell_type": "code",
   "execution_count": 7,
   "metadata": {
    "execution": {
     "iopub.execute_input": "2024-12-13T10:00:03.537760Z",
     "iopub.status.busy": "2024-12-13T10:00:03.537221Z",
     "iopub.status.idle": "2024-12-13T10:00:03.557092Z",
     "shell.execute_reply": "2024-12-13T10:00:03.555515Z",
     "shell.execute_reply.started": "2024-12-13T10:00:03.537699Z"
    },
    "trusted": true
   },
   "outputs": [],
   "source": [
    "def save_progress(filtered_songs, output_csv):\n",
    "    \"\"\"Save current progress to CSV\"\"\"\n",
    "    if filtered_songs:\n",
    "        pd.concat(filtered_songs).to_csv(output_csv, index=False)\n",
    "        print(f\"Progress saved to {output_csv}\")"
   ]
  },
  {
   "cell_type": "code",
   "execution_count": 8,
   "metadata": {
    "execution": {
     "iopub.execute_input": "2024-12-13T10:00:03.559411Z",
     "iopub.status.busy": "2024-12-13T10:00:03.558993Z",
     "iopub.status.idle": "2024-12-13T10:00:03.580011Z",
     "shell.execute_reply": "2024-12-13T10:00:03.578203Z",
     "shell.execute_reply.started": "2024-12-13T10:00:03.559372Z"
    },
    "trusted": true
   },
   "outputs": [],
   "source": [
    "def main(input_csv, output_csv, target_count = 10e9):\n",
    "    global CURRENT_CLIENT_ID\n",
    "    filtered_songs = []\n",
    "    token = new_token(CURRENT_CLIENT_ID)\n",
    "    \n",
    "    try:\n",
    "        successfull = 1\n",
    "        for chunk in pd.read_csv(input_csv, chunksize=50):\n",
    "            try:\n",
    "                # If token is invalid, get new one\n",
    "                if not token:\n",
    "                    token = new_token(CURRENT_CLIENT_ID)\n",
    "                    if not token:\n",
    "                        raise Exception(\"Failed to get valid token\")\n",
    "                \n",
    "                chunk = process_chunk(chunk, token)\n",
    "                filtered_songs.append(chunk)\n",
    "                print(f\"{successfull} chunk append sucessfully, id = {CURRENT_CLIENT_ID}\")\n",
    "                successfull += 1\n",
    "                \n",
    "                if sum(len(f) for f in filtered_songs) >= target_count:\n",
    "                    break\n",
    "                    \n",
    "            except RateLimitExceededException:\n",
    "                print(\"Rate limit reached. Switching client ID and retrying...\")\n",
    "                save_progress(filtered_songs, output_csv)\n",
    "                CURRENT_CLIENT_ID += 1\n",
    "                token = new_token(CURRENT_CLIENT_ID)\n",
    "                continue\n",
    "                \n",
    "            except requests.exceptions.HTTPError as e:\n",
    "                raise  # Re-raise other HTTP errors\n",
    "                \n",
    "    except Exception as e:\n",
    "        print(f\"Error occurred: {e}\")\n",
    "        save_progress(filtered_songs, output_csv)\n",
    "        return\n",
    "        \n",
    "    # Final save\n",
    "    result_df = pd.concat(filtered_songs).head(target_count)\n",
    "    result_df.to_csv(output_csv, index=False)\n",
    "    print(f\"Completed! Saved {len(result_df)} songs to {output_csv}\")"
   ]
  },
  {
   "cell_type": "code",
   "execution_count": null,
   "metadata": {
    "execution": {
     "iopub.execute_input": "2024-12-13T10:00:03.582641Z",
     "iopub.status.busy": "2024-12-13T10:00:03.582025Z"
    },
    "trusted": true
   },
   "outputs": [
    {
     "name": "stdout",
     "output_type": "stream",
     "text": [
      "1 chunk append sucessfully, id = 1\n",
      "Rate limit reached. Switching client ID and retrying...\n",
      "Progress saved to /kaggle/working/music_data.csv\n",
      "Rate limit reached. Switching client ID and retrying...\n",
      "Progress saved to /kaggle/working/music_data.csv\n",
      "Rate limit reached. Switching client ID and retrying...\n",
      "Progress saved to /kaggle/working/music_data.csv\n",
      "2 chunk append sucessfully, id = 4\n",
      "3 chunk append sucessfully, id = 4\n",
      "4 chunk append sucessfully, id = 4\n",
      "5 chunk append sucessfully, id = 4\n",
      "6 chunk append sucessfully, id = 4\n",
      "7 chunk append sucessfully, id = 4\n",
      "8 chunk append sucessfully, id = 4\n",
      "9 chunk append sucessfully, id = 4\n",
      "10 chunk append sucessfully, id = 4\n",
      "11 chunk append sucessfully, id = 4\n",
      "12 chunk append sucessfully, id = 4\n",
      "13 chunk append sucessfully, id = 4\n",
      "14 chunk append sucessfully, id = 4\n",
      "15 chunk append sucessfully, id = 4\n",
      "16 chunk append sucessfully, id = 4\n",
      "17 chunk append sucessfully, id = 4\n",
      "18 chunk append sucessfully, id = 4\n",
      "19 chunk append sucessfully, id = 4\n",
      "20 chunk append sucessfully, id = 4\n",
      "21 chunk append sucessfully, id = 4\n",
      "22 chunk append sucessfully, id = 4\n",
      "23 chunk append sucessfully, id = 4\n",
      "24 chunk append sucessfully, id = 4\n",
      "25 chunk append sucessfully, id = 4\n",
      "26 chunk append sucessfully, id = 4\n",
      "27 chunk append sucessfully, id = 4\n",
      "28 chunk append sucessfully, id = 4\n",
      "29 chunk append sucessfully, id = 4\n",
      "30 chunk append sucessfully, id = 4\n",
      "31 chunk append sucessfully, id = 4\n",
      "32 chunk append sucessfully, id = 4\n",
      "33 chunk append sucessfully, id = 4\n",
      "34 chunk append sucessfully, id = 4\n",
      "35 chunk append sucessfully, id = 4\n",
      "36 chunk append sucessfully, id = 4\n",
      "37 chunk append sucessfully, id = 4\n",
      "38 chunk append sucessfully, id = 4\n",
      "39 chunk append sucessfully, id = 4\n",
      "40 chunk append sucessfully, id = 4\n",
      "41 chunk append sucessfully, id = 4\n",
      "42 chunk append sucessfully, id = 4\n",
      "43 chunk append sucessfully, id = 4\n",
      "44 chunk append sucessfully, id = 4\n",
      "45 chunk append sucessfully, id = 4\n",
      "46 chunk append sucessfully, id = 4\n",
      "47 chunk append sucessfully, id = 4\n",
      "48 chunk append sucessfully, id = 4\n",
      "49 chunk append sucessfully, id = 4\n",
      "50 chunk append sucessfully, id = 4\n",
      "51 chunk append sucessfully, id = 4\n",
      "52 chunk append sucessfully, id = 4\n",
      "53 chunk append sucessfully, id = 4\n",
      "54 chunk append sucessfully, id = 4\n",
      "55 chunk append sucessfully, id = 4\n",
      "56 chunk append sucessfully, id = 4\n"
     ]
    }
   ],
   "source": [
    "main(\"/kaggle/input/music-dataset/merged_tracks.csv\", \"/kaggle/working/music_data.csv\")"
   ]
  }
 ],
 "metadata": {
  "kaggle": {
   "accelerator": "none",
   "dataSources": [
    {
     "datasetId": 6154196,
     "sourceId": 9998682,
     "sourceType": "datasetVersion"
    },
    {
     "datasetId": 6294362,
     "sourceId": 10188207,
     "sourceType": "datasetVersion"
    }
   ],
   "dockerImageVersionId": 30804,
   "isGpuEnabled": false,
   "isInternetEnabled": true,
   "language": "python",
   "sourceType": "notebook"
  },
  "kernelspec": {
   "display_name": "Python 3",
   "language": "python",
   "name": "python3"
  },
  "language_info": {
   "codemirror_mode": {
    "name": "ipython",
    "version": 3
   },
   "file_extension": ".py",
   "mimetype": "text/x-python",
   "name": "python",
   "nbconvert_exporter": "python",
   "pygments_lexer": "ipython3",
   "version": "3.10.14"
  }
 },
 "nbformat": 4,
 "nbformat_minor": 4
}
