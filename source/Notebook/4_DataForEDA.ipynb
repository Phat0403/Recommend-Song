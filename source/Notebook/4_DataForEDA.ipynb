{
 "cells": [
  {
   "cell_type": "markdown",
   "metadata": {},
   "source": [
    "Sau khi dùng Spotify API và xử lý dữ liệu, nhóm đã thu thập được 688431 dòng dữ liệu. Tuy nhiên nhóm vẫn muốn thu thập thêm một vài trường dữ liệu hữu ích cho việc phân tích dữ liệu. Do đó nhóm sử dụng thêm 2 API là Genius API và Rapid API để thu thập một số trường dữ liệu hữu ích như lyrics, ..."
   ]
  },
  {
   "cell_type": "markdown",
   "metadata": {},
   "source": [
    "#### Chọn ra 10000 bài hát tiêu biểu"
   ]
  },
  {
   "cell_type": "markdown",
   "metadata": {},
   "source": [
    "Vì data gốc thu thập được là 689400 dòng, tuy nhiên Rapid API chỉ giới hạn mỗi lần dùng là 100 bài hát. Do đó nhóm quyết định chọn ra 10.000 bài ngẫu nhiên nhưng phân bố đều ở 10 khoảng điểm popularity (từ 0 tới 100) để phân tích dữ liệu"
   ]
  },
  {
   "cell_type": "code",
   "execution_count": null,
   "metadata": {
    "vscode": {
     "languageId": "plaintext"
    }
   },
   "outputs": [],
   "source": []
  },
  {
   "cell_type": "code",
   "execution_count": null,
   "metadata": {
    "vscode": {
     "languageId": "plaintext"
    }
   },
   "outputs": [],
   "source": []
  },
  {
   "cell_type": "code",
   "execution_count": null,
   "metadata": {
    "vscode": {
     "languageId": "plaintext"
    }
   },
   "outputs": [],
   "source": []
  },
  {
   "cell_type": "code",
   "execution_count": null,
   "metadata": {
    "vscode": {
     "languageId": "plaintext"
    }
   },
   "outputs": [],
   "source": []
  },
  {
   "cell_type": "code",
   "execution_count": null,
   "metadata": {
    "vscode": {
     "languageId": "plaintext"
    }
   },
   "outputs": [],
   "source": []
  },
  {
   "cell_type": "code",
   "execution_count": null,
   "metadata": {
    "vscode": {
     "languageId": "plaintext"
    }
   },
   "outputs": [],
   "source": []
  },
  {
   "cell_type": "markdown",
   "metadata": {},
   "source": []
  }
 ],
 "metadata": {
  "language_info": {
   "name": "python"
  }
 },
 "nbformat": 4,
 "nbformat_minor": 2
}
